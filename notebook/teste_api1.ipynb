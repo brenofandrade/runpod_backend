{
 "cells": [
  {
   "cell_type": "code",
   "execution_count": 1,
   "id": "6f0f1012",
   "metadata": {},
   "outputs": [],
   "source": [
    "import requests\n",
    "import json\n",
    "import re\n",
    "from IPython.display import display, Markdown"
   ]
  },
  {
   "cell_type": "code",
   "execution_count": 9,
   "id": "1ba28e51-8bc6-437a-8885-7700b21e592b",
   "metadata": {},
   "outputs": [],
   "source": [
    "\n",
    "\n",
    "\n",
    "def clean_answer(text: str) -> str:\n",
    "    return re.sub(r\"<think>.*?</think>\", \"\", text, flags=re.DOTALL).strip()"
   ]
  },
  {
   "cell_type": "code",
   "execution_count": 14,
   "id": "2d1ad643-e6fa-4d9e-beb2-fb699ed3c821",
   "metadata": {},
   "outputs": [
    {
     "name": "stdout",
     "output_type": "stream",
     "text": [
      "200\n",
      "ok\n"
     ]
    }
   ],
   "source": [
    "# Teste backend\n",
    "url = \"http://localhost:8000/health\"\n",
    "\n",
    "r = requests.get(url)\n",
    "\n",
    "text = json.loads(r.content)\n",
    "\n",
    "print(r.status_code)\n",
    "print(text['status'])\n"
   ]
  },
  {
   "cell_type": "code",
   "execution_count": 15,
   "id": "3f280535",
   "metadata": {},
   "outputs": [
    {
     "data": {
      "text/markdown": [
       "</think>\n",
       "Os benefícios para colaboradores no modelo Home Office (trabalho incluem FGTS, FGTS e FG, FG, Vale de Transporte outros. Para detalhes, verifique via site ou gestão."
      ],
      "text/plain": [
       "<IPython.core.display.Markdown object>"
      ]
     },
     "metadata": {},
     "output_type": "display_data"
    }
   ],
   "source": [
    "\n",
    "\n",
    "\n",
    "url = \"http://localhost:8000/chat\"\n",
    "\n",
    "\n",
    "\n",
    "# question = input(\"Digite sua pergunta?\")\n",
    "# question = \"Qual é o procedimento se faltar energia ou internet durante meu dia remoto?\"\n",
    "question = \"Quais benefícios trabalhistas continuam no híbrido e em quais dias não tenho vale-transporte?\"\n",
    "# question = \"Quais treinamentos fora da jornada contam para banco de horas/pagamento e quais não contam?\"\n",
    "# question = \"Qual é o procedimento para solicitar e gerenciar brindes institucionais?\"\n",
    "\n",
    "payload = {\n",
    "    \"question\":question\n",
    "}\n",
    "\n",
    "\n",
    "\n",
    "\n",
    "response = requests.post(url, json=payload)\n",
    "\n",
    "# print(response.status_code)\n",
    "# print(response.content)\n",
    "\n",
    "try:\n",
    "    resultado = json.loads(response.content)\n",
    "    resposta = resultado.get(\"answer\", \"\")\n",
    "    contexto = resultado.get(\"contexto\", \"\")\n",
    "    # if resposta:\n",
    "    #     resposta = resposta.splitlines()\n",
    "\n",
    "    # print(clean_answer(resposta))\n",
    "    display(Markdown(resposta))\n",
    "    # print(contexto)\n",
    "\n",
    "except Exception as error:\n",
    "    print(f\"Ocorreu um erro: {error}\")"
   ]
  },
  {
   "cell_type": "code",
   "execution_count": 16,
   "id": "cf5fd4fd-916a-44f8-9cad-a64f61d102f2",
   "metadata": {},
   "outputs": [
    {
     "data": {
      "text/markdown": [],
      "text/plain": [
       "<IPython.core.display.Markdown object>"
      ]
     },
     "metadata": {},
     "output_type": "display_data"
    }
   ],
   "source": [
    "url = \"http://localhost:8000/chat\"\n",
    "\n",
    "\n",
    "\n",
    "# question = input(\"Digite sua pergunta?\")\n",
    "# question = \"\"\n",
    "# question = \"Qual é o procedimento se faltar energia ou internet durante meu dia remoto?\"\n",
    "# question = \"Quais benefícios trabalhistas continuam no híbrido e em quais dias não tenho vale-transporte?\"\n",
    "# question = \"Quais treinamentos fora da jornada contam para banco de horas/pagamento e quais não contam?\"\n",
    "# question = \"Qual é o procedimento para solicitar e gerenciar brindes institucionais?\"\n",
    "\n",
    "# question = \"Qual o valor do VR?\"\n",
    "# question = \"Qual o valor do VA?\"\n",
    "# question = \"Qual o valor do auxílio alimentação?\"\n",
    "question = \"Quais as recomendações para enfrentar crises na Unimed?\"\n",
    "\n",
    "question = \"Quais as diretrizes para mitigar crises no sistema Unimed?\"\n",
    "payload = {\n",
    "    \"question\":question\n",
    "}\n",
    "\n",
    "\n",
    "\n",
    "\n",
    "response = requests.post(url, json=payload)\n",
    "\n",
    "# print(response.status_code)\n",
    "# print(response.content)\n",
    "\n",
    "try:\n",
    "    resultado = json.loads(response.content)\n",
    "    resposta = resultado.get(\"answer\", \"\")\n",
    "    contexto = resultado.get(\"contexto\", \"\")\n",
    "    # if resposta:\n",
    "    #     resposta = resposta.splitlines()\n",
    "\n",
    "    # print(clean_answer(resposta))\n",
    "    display(Markdown(resposta))\n",
    "    # print(contexto)\n",
    "\n",
    "except Exception as error:\n",
    "    print(f\"Ocorreu um erro: {error}\")"
   ]
  },
  {
   "cell_type": "code",
   "execution_count": 83,
   "id": "c63f481f-5127-4425-9c82-b4b5954f1b58",
   "metadata": {},
   "outputs": [
    {
     "data": {
      "text/markdown": [
       "Não localizei informação suficiente no Contexto para responder com segurança. Se possível, reformule a pergunta incluindo o sistema, processo ou área envolvidos."
      ],
      "text/plain": [
       "<IPython.core.display.Markdown object>"
      ]
     },
     "metadata": {},
     "output_type": "display_data"
    }
   ],
   "source": [
    "url = \"http://localhost:8000/chat\"\n",
    "\n",
    "\n",
    "\n",
    "# question = input(\"Digite sua pergunta?\")\n",
    "# question = \"\"\n",
    "# question = \"Qual é o procedimento se faltar energia ou internet durante meu dia remoto?\"\n",
    "# question = \"Quais benefícios trabalhistas continuam no híbrido e em quais dias não tenho vale-transporte?\"\n",
    "# question = \"Quais treinamentos fora da jornada contam para banco de horas/pagamento e quais não contam?\"\n",
    "# question = \"Qual é o procedimento para solicitar e gerenciar brindes institucionais?\"\n",
    "\n",
    "# question = \"Qual o valor do VR?\"\n",
    "# question = \"Qual o valor do VA?\"\n",
    "# question = \"Qual o valor do auxílio alimentação?\"\n",
    "question = \"Quais as recomendações para enfrentar crises na Unimed?\"\n",
    "\n",
    "# question = \"Quais as diretrizes para mitigar crises no sistema Unimed?\"\n",
    "payload = {\n",
    "    \"question\":question\n",
    "}\n",
    "\n",
    "\n",
    "\n",
    "\n",
    "response = requests.post(url, json=payload)\n",
    "\n",
    "# print(response.status_code)\n",
    "# print(response.content)\n",
    "\n",
    "try:\n",
    "    resultado = json.loads(response.content)\n",
    "    resposta = resultado.get(\"answer\", \"\")\n",
    "    contexto = resultado.get(\"contexto\", \"\")\n",
    "    # if resposta:\n",
    "    #     resposta = resposta.splitlines()\n",
    "\n",
    "    # print(clean_answer(resposta))\n",
    "    display(Markdown(resposta))\n",
    "    # print(contexto)\n",
    "\n",
    "except Exception as error:\n",
    "    print(f\"Ocorreu um erro: {error}\")"
   ]
  },
  {
   "cell_type": "code",
   "execution_count": 34,
   "id": "e8faa7a0-81ad-49ca-a16b-f3cf6f4976a0",
   "metadata": {},
   "outputs": [],
   "source": [
    "import time"
   ]
  },
  {
   "cell_type": "code",
   "execution_count": 41,
   "id": "0ddac9f9-67ad-4004-ad64-57acf16d52c6",
   "metadata": {},
   "outputs": [],
   "source": [
    "start_time = time.perf_counter()"
   ]
  },
  {
   "cell_type": "code",
   "execution_count": 77,
   "id": "fa99e074-063d-420b-a0a7-62fcf678c57c",
   "metadata": {},
   "outputs": [
    {
     "name": "stdout",
     "output_type": "stream",
     "text": [
      "100.61\n"
     ]
    }
   ],
   "source": [
    "latency = round(time.perf_counter() - start_time, 2)\n",
    "\n",
    "print(latency)"
   ]
  },
  {
   "cell_type": "code",
   "execution_count": null,
   "id": "9e5f1958-bdea-480b-8933-9710bb9e5b11",
   "metadata": {},
   "outputs": [],
   "source": []
  },
  {
   "cell_type": "code",
   "execution_count": null,
   "id": "caf93391-dd55-4b92-93e0-c5ef160cc80b",
   "metadata": {},
   "outputs": [],
   "source": []
  },
  {
   "cell_type": "code",
   "execution_count": null,
   "id": "fab02605-8dbf-4469-8c64-1069dfc9f986",
   "metadata": {},
   "outputs": [],
   "source": []
  },
  {
   "cell_type": "code",
   "execution_count": null,
   "id": "16b22b9d-1d75-44e9-be44-c03adaa3acd6",
   "metadata": {},
   "outputs": [],
   "source": []
  },
  {
   "cell_type": "code",
   "execution_count": null,
   "id": "f0dfac1b-05d4-4f48-be6e-6b6d4c70ed23",
   "metadata": {},
   "outputs": [],
   "source": []
  },
  {
   "cell_type": "code",
   "execution_count": null,
   "id": "12fbb62c-6e6b-4874-bdb4-76c00df18268",
   "metadata": {},
   "outputs": [],
   "source": []
  },
  {
   "cell_type": "code",
   "execution_count": null,
   "id": "67205bdf-469d-4d7c-9e72-e9fd283bb84e",
   "metadata": {},
   "outputs": [],
   "source": []
  },
  {
   "cell_type": "code",
   "execution_count": null,
   "id": "9794cc8e-f094-4395-b253-16cd787a02f6",
   "metadata": {},
   "outputs": [],
   "source": []
  },
  {
   "cell_type": "code",
   "execution_count": null,
   "id": "a05dafb4-66a9-41f2-a804-490b791e06e6",
   "metadata": {},
   "outputs": [],
   "source": []
  },
  {
   "cell_type": "code",
   "execution_count": null,
   "id": "3424051e-ed7b-4de8-945b-ce314268c38b",
   "metadata": {},
   "outputs": [],
   "source": []
  },
  {
   "cell_type": "code",
   "execution_count": null,
   "id": "b99e6831-7ba1-40d4-8969-bcfc962cb9db",
   "metadata": {},
   "outputs": [],
   "source": []
  },
  {
   "cell_type": "code",
   "execution_count": null,
   "id": "00fcd63c-b67a-4d8d-b63f-392b98c0825d",
   "metadata": {},
   "outputs": [],
   "source": []
  },
  {
   "cell_type": "code",
   "execution_count": null,
   "id": "d53181b1-4423-4d11-9d32-5892059a399a",
   "metadata": {},
   "outputs": [],
   "source": []
  },
  {
   "cell_type": "code",
   "execution_count": null,
   "id": "71277d8c-5074-4984-8528-8e52f44531ef",
   "metadata": {},
   "outputs": [],
   "source": []
  }
 ],
 "metadata": {
  "kernelspec": {
   "display_name": "Python 3 (ipykernel)",
   "language": "python",
   "name": "python3"
  },
  "language_info": {
   "codemirror_mode": {
    "name": "ipython",
    "version": 3
   },
   "file_extension": ".py",
   "mimetype": "text/x-python",
   "name": "python",
   "nbconvert_exporter": "python",
   "pygments_lexer": "ipython3",
   "version": "3.12.7"
  }
 },
 "nbformat": 4,
 "nbformat_minor": 5
}
