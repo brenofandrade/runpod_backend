{
 "cells": [
  {
   "cell_type": "code",
   "execution_count": 20,
   "id": "6f0f1012",
   "metadata": {},
   "outputs": [],
   "source": [
    "import requests\n",
    "import json\n",
    "import re\n",
    "from IPython.display import display, Markdown"
   ]
  },
  {
   "cell_type": "code",
   "execution_count": 9,
   "id": "1ba28e51-8bc6-437a-8885-7700b21e592b",
   "metadata": {},
   "outputs": [],
   "source": [
    "\n",
    "\n",
    "\n",
    "def clean_answer(text: str) -> str:\n",
    "    return re.sub(r\"<think>.*?</think>\", \"\", text, flags=re.DOTALL).strip()"
   ]
  },
  {
   "cell_type": "code",
   "execution_count": 82,
   "id": "2d1ad643-e6fa-4d9e-beb2-fb699ed3c821",
   "metadata": {},
   "outputs": [
    {
     "name": "stdout",
     "output_type": "stream",
     "text": [
      "200\n",
      "ok\n"
     ]
    }
   ],
   "source": [
    "# Teste backend\n",
    "url = \"http://localhost:8000/health\"\n",
    "\n",
    "r = requests.get(url)\n",
    "\n",
    "text = json.loads(r.content)\n",
    "\n",
    "print(r.status_code)\n",
    "print(text['status'])\n"
   ]
  },
  {
   "cell_type": "code",
   "execution_count": 32,
   "id": "3f280535",
   "metadata": {},
   "outputs": [
    {
     "data": {
      "text/markdown": [
       "**Benefícios que continuam no regime híbrido**\n",
       "\n",
       "> “O colaborador em regime de Trabalho Híbrido tem os mesmos direitos trabalhistas garantidos pela CLT em relação aos colaboradores que estão diariamente na Cooperativa: FGTS, férias, 13º salário, assim como os mesmos direitos contemplados no formulário, DE‑018 – Convenção Coletiva de Trabalho disponível no TASY.”  \n",
       "\n",
       "Portanto, no híbrido você mantém:\n",
       "\n",
       "- FGTS  \n",
       "- Férias  \n",
       "- 13º salário  \n",
       "- Outros direitos previstos na CLT e na Convenção Coletiva (por exemplo, horas extras, adicional noturno, etc.)\n",
       "\n",
       "**Vale‑transporte**\n",
       "\n",
       "> “com exceção do vale‑transporte que não tem direito nos dias em que estiver na modalidade Home Office, visto que a execução das suas atividades laborais passa a ser em sua residência.”  \n",
       "\n",
       "- **Dias presenciais** (quando você trabalha na Cooperativa): vale‑transporte continua disponível.  \n",
       "- **Dias de Home Office** (quando você trabalha de casa): vale‑transporte não é concedido.\n",
       "\n",
       "Assim, mantenha o controle da sua escala híbrida para saber em quais dias você tem direito ao vale‑transporte e em quais dias ele não será pago."
      ],
      "text/plain": [
       "<IPython.core.display.Markdown object>"
      ]
     },
     "metadata": {},
     "output_type": "display_data"
    }
   ],
   "source": [
    "url = \"http://localhost:8000/chat\"\n",
    "\n",
    "\n",
    "\n",
    "# question = input(\"Digite sua pergunta?\")\n",
    "# question = \"Qual é o procedimento se faltar energia ou internet durante meu dia remoto?\"\n",
    "question = \"Quais benefícios trabalhistas continuam no híbrido e em quais dias não tenho vale-transporte?\"\n",
    "# question = \"Quais treinamentos fora da jornada contam para banco de horas/pagamento e quais não contam?\"\n",
    "# question = \"Qual é o procedimento para solicitar e gerenciar brindes institucionais?\"\n",
    "\n",
    "payload = {\n",
    "    \"question\":question\n",
    "}\n",
    "\n",
    "\n",
    "\n",
    "\n",
    "response = requests.post(url, json=payload)\n",
    "\n",
    "# print(response.status_code)\n",
    "# print(response.content)\n",
    "\n",
    "try:\n",
    "    resultado = json.loads(response.content)\n",
    "    resposta = resultado.get(\"answer\", \"\")\n",
    "    contexto = resultado.get(\"contexto\", \"\")\n",
    "    # if resposta:\n",
    "    #     resposta = resposta.splitlines()\n",
    "\n",
    "    # print(clean_answer(resposta))\n",
    "    display(Markdown(resposta))\n",
    "    # print(contexto)\n",
    "\n",
    "except Exception as error:\n",
    "    print(f\"Ocorreu um erro: {error}\")"
   ]
  },
  {
   "cell_type": "code",
   "execution_count": 78,
   "id": "cf5fd4fd-916a-44f8-9cad-a64f61d102f2",
   "metadata": {},
   "outputs": [
    {
     "data": {
      "text/markdown": [
       "**Resumo**  \n",
       "Para enfrentar crises na Unimed, a recomendação central é agir rapidamente, de forma coordenada e alinhada com a Diretriz Nacional de Comunicação, envolvendo o comitê interno de crises, a Unimed do Brasil e as áreas responsáveis da cooperativa.\n",
       "\n",
       "**Conteúdo principal**\n",
       "\n",
       "1. **Antecipação e prevenção**  \n",
       "   > “Antecipar possíveis cenários de crise” e “Preparar Singulares, sociedades auxiliares, Federações/Intrafederativas, Confederação e recursos próprios para gerenciar crises.”  \n",
       "   - Estude o Manual de Prevenção e Gerenciamento de Crises e o Guia de Presença em Mídias Digitais.  \n",
       "   - Mantenha processos internos de atendimento ao cliente bem estruturados.\n",
       "\n",
       "2. **Identificação rápida**  \n",
       "   > “Ser rápido na identificação da crise. Um incidente pode virar uma crise em poucos minutos.”  \n",
       "   - Monitore mídias sociais e canais de comunicação.  \n",
       "   - Em caso de alerta, envie e‑mail para *digital@unimed.coop.br* e *comunicacaobr@unimed.coop.br*.\n",
       "\n",
       "3. **Comunicação interna imediata**  \n",
       "   > “Todo integrante que tiver informações sobre crises potenciais deve imediatamente procurar seu superior hierárquico e comunicar os fatos.”  \n",
       "   - Relate ao superior, que deve reportar à direção da Singular, Federação/Intrafederativa, sociedade auxiliar ou Confederação.  \n",
       "   - Evite comentar o assunto com pessoas alheias ao gerenciamento da crise.\n",
       "\n",
       "4. **Coordenação com o comitê de crises**  \n",
       "   > “Envolver imediatamente todos os responsáveis pelo gerenciamento da comunicação e os membros do Comitê de Crises.”  \n",
       "   - Primeiro contato por telefone, depois por e‑mail, garantindo rapidez e ausência de distorções.  \n",
       "   - Mantenha registro de todas as ações na plataforma de gestão de crises.\n",
       "\n",
       "5. **Alinhamento de posicionamento**  \n",
       "   > “Alinhar posicionamentos às mensagens‑chave predefinidas na Diretriz.”  \n",
       "   - Solicite orientação à Unimed do Brasil e ao comitê de gestão de crises da sua cooperativa antes de emitir qualquer posicionamento público.  \n",
       "   - Se a Unimed não tem estrutura para respostas rápidas, recomenda‑se não ter presença em sites de redes sociais.\n",
       "\n",
       "6. **Gestão da crise nas redes sociais**  \n",
       "   > “Deve-se buscar eliminar uma crise nas redes sociais o mais rápido possível, mas sem agir de forma precipitada.”  \n",
       "   - Analise o perfil do autor da crise e de quem está disseminando o caso.  \n",
       "   - Se possível, leve a tratativa para fora da rede (conversa privada, telefone ou presencial).  \n",
       "   - Registre o andamento na plataforma de gestão de crises.\n",
       "\n",
       "7. **Porta‑vozes autorizados**  \n",
       "   > “Em caso de dúvida, consulte a equipe da Unimed do Brasil pelo e‑mail digital@unimed.coop.br.”  \n",
       "   - Apenas porta‑vozes endossados pela Unimed podem falar em nome da cooperativa.  \n",
       "   - Eles devem ter participado de media training e estar alinhados com a área de Comunicação da Unimed do Brasil.\n",
       "\n",
       "**Observações**  \n",
       "- Se houver divergências ou falta de clareza sobre algum procedimento, valide com a área responsável ou com a Unimed do Brasil.  \n",
       "- Mantenha sempre a transparência e a consistência nas mensagens, evitando comentários desnecessários que possam agravar a situação."
      ],
      "text/plain": [
       "<IPython.core.display.Markdown object>"
      ]
     },
     "metadata": {},
     "output_type": "display_data"
    }
   ],
   "source": [
    "url = \"http://localhost:8000/chat\"\n",
    "\n",
    "\n",
    "\n",
    "# question = input(\"Digite sua pergunta?\")\n",
    "# question = \"\"\n",
    "# question = \"Qual é o procedimento se faltar energia ou internet durante meu dia remoto?\"\n",
    "# question = \"Quais benefícios trabalhistas continuam no híbrido e em quais dias não tenho vale-transporte?\"\n",
    "# question = \"Quais treinamentos fora da jornada contam para banco de horas/pagamento e quais não contam?\"\n",
    "# question = \"Qual é o procedimento para solicitar e gerenciar brindes institucionais?\"\n",
    "\n",
    "# question = \"Qual o valor do VR?\"\n",
    "# question = \"Qual o valor do VA?\"\n",
    "# question = \"Qual o valor do auxílio alimentação?\"\n",
    "question = \"Quais as recomendações para enfrentar crises na Unimed?\"\n",
    "\n",
    "question = \"Quais as diretrizes para mitigar crises no sistema Unimed?\"\n",
    "payload = {\n",
    "    \"question\":question\n",
    "}\n",
    "\n",
    "\n",
    "\n",
    "\n",
    "response = requests.post(url, json=payload)\n",
    "\n",
    "# print(response.status_code)\n",
    "# print(response.content)\n",
    "\n",
    "try:\n",
    "    resultado = json.loads(response.content)\n",
    "    resposta = resultado.get(\"answer\", \"\")\n",
    "    contexto = resultado.get(\"contexto\", \"\")\n",
    "    # if resposta:\n",
    "    #     resposta = resposta.splitlines()\n",
    "\n",
    "    # print(clean_answer(resposta))\n",
    "    display(Markdown(resposta))\n",
    "    # print(contexto)\n",
    "\n",
    "except Exception as error:\n",
    "    print(f\"Ocorreu um erro: {error}\")"
   ]
  },
  {
   "cell_type": "code",
   "execution_count": 83,
   "id": "c63f481f-5127-4425-9c82-b4b5954f1b58",
   "metadata": {},
   "outputs": [
    {
     "data": {
      "text/markdown": [
       "Não localizei informação suficiente no Contexto para responder com segurança. Se possível, reformule a pergunta incluindo o sistema, processo ou área envolvidos."
      ],
      "text/plain": [
       "<IPython.core.display.Markdown object>"
      ]
     },
     "metadata": {},
     "output_type": "display_data"
    }
   ],
   "source": [
    "url = \"http://localhost:8000/chat\"\n",
    "\n",
    "\n",
    "\n",
    "# question = input(\"Digite sua pergunta?\")\n",
    "# question = \"\"\n",
    "# question = \"Qual é o procedimento se faltar energia ou internet durante meu dia remoto?\"\n",
    "# question = \"Quais benefícios trabalhistas continuam no híbrido e em quais dias não tenho vale-transporte?\"\n",
    "# question = \"Quais treinamentos fora da jornada contam para banco de horas/pagamento e quais não contam?\"\n",
    "# question = \"Qual é o procedimento para solicitar e gerenciar brindes institucionais?\"\n",
    "\n",
    "# question = \"Qual o valor do VR?\"\n",
    "# question = \"Qual o valor do VA?\"\n",
    "# question = \"Qual o valor do auxílio alimentação?\"\n",
    "question = \"Quais as recomendações para enfrentar crises na Unimed?\"\n",
    "\n",
    "# question = \"Quais as diretrizes para mitigar crises no sistema Unimed?\"\n",
    "payload = {\n",
    "    \"question\":question\n",
    "}\n",
    "\n",
    "\n",
    "\n",
    "\n",
    "response = requests.post(url, json=payload)\n",
    "\n",
    "# print(response.status_code)\n",
    "# print(response.content)\n",
    "\n",
    "try:\n",
    "    resultado = json.loads(response.content)\n",
    "    resposta = resultado.get(\"answer\", \"\")\n",
    "    contexto = resultado.get(\"contexto\", \"\")\n",
    "    # if resposta:\n",
    "    #     resposta = resposta.splitlines()\n",
    "\n",
    "    # print(clean_answer(resposta))\n",
    "    display(Markdown(resposta))\n",
    "    # print(contexto)\n",
    "\n",
    "except Exception as error:\n",
    "    print(f\"Ocorreu um erro: {error}\")"
   ]
  },
  {
   "cell_type": "code",
   "execution_count": 34,
   "id": "e8faa7a0-81ad-49ca-a16b-f3cf6f4976a0",
   "metadata": {},
   "outputs": [],
   "source": [
    "import time"
   ]
  },
  {
   "cell_type": "code",
   "execution_count": 41,
   "id": "0ddac9f9-67ad-4004-ad64-57acf16d52c6",
   "metadata": {},
   "outputs": [],
   "source": [
    "start_time = time.perf_counter()"
   ]
  },
  {
   "cell_type": "code",
   "execution_count": 77,
   "id": "fa99e074-063d-420b-a0a7-62fcf678c57c",
   "metadata": {},
   "outputs": [
    {
     "name": "stdout",
     "output_type": "stream",
     "text": [
      "100.61\n"
     ]
    }
   ],
   "source": [
    "latency = round(time.perf_counter() - start_time, 2)\n",
    "\n",
    "print(latency)"
   ]
  },
  {
   "cell_type": "code",
   "execution_count": null,
   "id": "9e5f1958-bdea-480b-8933-9710bb9e5b11",
   "metadata": {},
   "outputs": [],
   "source": []
  },
  {
   "cell_type": "code",
   "execution_count": null,
   "id": "caf93391-dd55-4b92-93e0-c5ef160cc80b",
   "metadata": {},
   "outputs": [],
   "source": []
  },
  {
   "cell_type": "code",
   "execution_count": null,
   "id": "fab02605-8dbf-4469-8c64-1069dfc9f986",
   "metadata": {},
   "outputs": [],
   "source": []
  },
  {
   "cell_type": "code",
   "execution_count": null,
   "id": "16b22b9d-1d75-44e9-be44-c03adaa3acd6",
   "metadata": {},
   "outputs": [],
   "source": []
  },
  {
   "cell_type": "code",
   "execution_count": null,
   "id": "f0dfac1b-05d4-4f48-be6e-6b6d4c70ed23",
   "metadata": {},
   "outputs": [],
   "source": []
  },
  {
   "cell_type": "code",
   "execution_count": null,
   "id": "12fbb62c-6e6b-4874-bdb4-76c00df18268",
   "metadata": {},
   "outputs": [],
   "source": []
  },
  {
   "cell_type": "code",
   "execution_count": null,
   "id": "67205bdf-469d-4d7c-9e72-e9fd283bb84e",
   "metadata": {},
   "outputs": [],
   "source": []
  },
  {
   "cell_type": "code",
   "execution_count": null,
   "id": "9794cc8e-f094-4395-b253-16cd787a02f6",
   "metadata": {},
   "outputs": [],
   "source": []
  },
  {
   "cell_type": "code",
   "execution_count": null,
   "id": "a05dafb4-66a9-41f2-a804-490b791e06e6",
   "metadata": {},
   "outputs": [],
   "source": []
  },
  {
   "cell_type": "code",
   "execution_count": null,
   "id": "3424051e-ed7b-4de8-945b-ce314268c38b",
   "metadata": {},
   "outputs": [],
   "source": []
  },
  {
   "cell_type": "code",
   "execution_count": null,
   "id": "b99e6831-7ba1-40d4-8969-bcfc962cb9db",
   "metadata": {},
   "outputs": [],
   "source": []
  },
  {
   "cell_type": "code",
   "execution_count": null,
   "id": "00fcd63c-b67a-4d8d-b63f-392b98c0825d",
   "metadata": {},
   "outputs": [],
   "source": []
  },
  {
   "cell_type": "code",
   "execution_count": null,
   "id": "d53181b1-4423-4d11-9d32-5892059a399a",
   "metadata": {},
   "outputs": [],
   "source": []
  },
  {
   "cell_type": "code",
   "execution_count": null,
   "id": "71277d8c-5074-4984-8528-8e52f44531ef",
   "metadata": {},
   "outputs": [],
   "source": []
  }
 ],
 "metadata": {
  "kernelspec": {
   "display_name": "Python 3 (ipykernel)",
   "language": "python",
   "name": "python3"
  },
  "language_info": {
   "codemirror_mode": {
    "name": "ipython",
    "version": 3
   },
   "file_extension": ".py",
   "mimetype": "text/x-python",
   "name": "python",
   "nbconvert_exporter": "python",
   "pygments_lexer": "ipython3",
   "version": "3.11.11"
  }
 },
 "nbformat": 4,
 "nbformat_minor": 5
}
