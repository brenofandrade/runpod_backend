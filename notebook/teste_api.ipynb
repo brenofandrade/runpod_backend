{
 "cells": [
  {
   "cell_type": "code",
   "execution_count": 1,
   "id": "6f0f1012",
   "metadata": {},
   "outputs": [],
   "source": [
    "import requests"
   ]
  },
  {
   "cell_type": "code",
   "execution_count": 2,
   "id": "4412e314",
   "metadata": {},
   "outputs": [],
   "source": [
    "import json"
   ]
  },
  {
   "cell_type": "code",
   "execution_count": null,
   "id": "1140ebf7",
   "metadata": {},
   "outputs": [],
   "source": []
  },
  {
   "cell_type": "code",
   "execution_count": 49,
   "id": "3f280535",
   "metadata": {},
   "outputs": [
    {
     "name": "stdout",
     "output_type": "stream",
     "text": [
      "<think>\n",
      "Hmm, vamos analisando a essa consulta do usuário... O usuário está perguntando sobre \"Quais treinamentos fora do banco de horas e contagem e quais\". Parece ser uma pergunta simples, mas precisa de contexto profissional. O usuário pode estar se referindo a perguntas sobre erros de contabilidade em horas em um banco de horas de trabalho ou algo relacionado a processos. \n",
      "\n",
      "Primeiro, ver o contexto histórico mostra que lidamos com frequência com assuntos como treinamentos, avaliações, oramentos, oramentos e gestão. Então provável usuário está perguntando sobre validação de erros em processos ou erros em processos de trabalho. \n",
      "\n",
      "A resposta precisa ser clara e objetina: erros, mas não julgamento é só dizer que erros são aceitos, mas também outros fatores como capacidade, compromisso, ética, etc. Deverbalho incluir os principais: erros, capacidades esperanças, compromis, ética, etc. \n",
      "\n",
      "Talvezes, se for mais detalhes adicionais se usuário pedir, mas por enquanto isso não pediu. \n",
      "\n",
      "Resposta básica primeiro: erros e útil, se possível\n",
      "</think>\n",
      "### Resposta:\n",
      "\n",
      "Os treinamentos fora do banco de horas são considerados geralmente avaliados com base em diversos fatores critérios, incluindo:\n",
      "\n",
      "1. **Capacidade técnica e eficiência**: relacionada com as tarefas e objetivos definidos.  \n",
      "2. Compromisso e ético com trabalho e entrega  \n",
      "3. Qualidade das entregas e eficiência  \n",
      "4. Comportamento euação  \n",
      "\n",
      "Caso recomendamos verificar a descrição completa no processo de avaliação com a organização para maiores detalhes.\n"
     ]
    }
   ],
   "source": [
    "url = \"http://localhost:8000/chat\"\n",
    "\n",
    "\n",
    "\n",
    "# question = input(\"Digite sua pergunta?\")\n",
    "# question = \"Qual é o procedimento se faltar energia ou internet durante meu dia remoto?\"\n",
    "# question = \"Quais benefícios trabalhistas continuam no híbrido e em quais dias não tenho vale-transporte?\"\n",
    "question = \"Quais treinamentos fora da jornada contam para banco de horas/pagamento e quais não contam?\"\n",
    "# question = \"Qual é o procedimento para solicitar e gerenciar brindes institucionais?\"\n",
    "\n",
    "payload = {\n",
    "    \"question\":question\n",
    "}\n",
    "\n",
    "\n",
    "\n",
    "\n",
    "response = requests.post(url, json=payload)\n",
    "\n",
    "# print(response.status_code)\n",
    "# print(response.content)\n",
    "\n",
    "try:\n",
    "    resultado = json.loads(response.content)\n",
    "    resposta = resultado.get(\"answer\", \"\")\n",
    "    contexto = resultado.get(\"contexto\", \"\")\n",
    "    # if resposta:\n",
    "    #     resposta = resposta.splitlines()\n",
    "\n",
    "    print(resposta)\n",
    "    # print(contexto)\n",
    "\n",
    "except Exception as error:\n",
    "    print(f\"Ocorreu um erro: {error}\")"
   ]
  },
  {
   "cell_type": "code",
   "execution_count": null,
   "id": "e8faa7a0-81ad-49ca-a16b-f3cf6f4976a0",
   "metadata": {},
   "outputs": [],
   "source": []
  },
  {
   "cell_type": "code",
   "execution_count": null,
   "id": "0ddac9f9-67ad-4004-ad64-57acf16d52c6",
   "metadata": {},
   "outputs": [],
   "source": []
  },
  {
   "cell_type": "code",
   "execution_count": null,
   "id": "fa99e074-063d-420b-a0a7-62fcf678c57c",
   "metadata": {},
   "outputs": [],
   "source": []
  },
  {
   "cell_type": "code",
   "execution_count": null,
   "id": "9e5f1958-bdea-480b-8933-9710bb9e5b11",
   "metadata": {},
   "outputs": [],
   "source": []
  },
  {
   "cell_type": "code",
   "execution_count": null,
   "id": "caf93391-dd55-4b92-93e0-c5ef160cc80b",
   "metadata": {},
   "outputs": [],
   "source": []
  },
  {
   "cell_type": "code",
   "execution_count": null,
   "id": "fab02605-8dbf-4469-8c64-1069dfc9f986",
   "metadata": {},
   "outputs": [],
   "source": []
  },
  {
   "cell_type": "code",
   "execution_count": null,
   "id": "16b22b9d-1d75-44e9-be44-c03adaa3acd6",
   "metadata": {},
   "outputs": [],
   "source": []
  },
  {
   "cell_type": "code",
   "execution_count": null,
   "id": "f0dfac1b-05d4-4f48-be6e-6b6d4c70ed23",
   "metadata": {},
   "outputs": [],
   "source": []
  },
  {
   "cell_type": "code",
   "execution_count": null,
   "id": "12fbb62c-6e6b-4874-bdb4-76c00df18268",
   "metadata": {},
   "outputs": [],
   "source": []
  },
  {
   "cell_type": "code",
   "execution_count": null,
   "id": "67205bdf-469d-4d7c-9e72-e9fd283bb84e",
   "metadata": {},
   "outputs": [],
   "source": []
  },
  {
   "cell_type": "code",
   "execution_count": null,
   "id": "9794cc8e-f094-4395-b253-16cd787a02f6",
   "metadata": {},
   "outputs": [],
   "source": []
  },
  {
   "cell_type": "code",
   "execution_count": null,
   "id": "a05dafb4-66a9-41f2-a804-490b791e06e6",
   "metadata": {},
   "outputs": [],
   "source": []
  },
  {
   "cell_type": "code",
   "execution_count": null,
   "id": "3424051e-ed7b-4de8-945b-ce314268c38b",
   "metadata": {},
   "outputs": [],
   "source": []
  },
  {
   "cell_type": "code",
   "execution_count": null,
   "id": "b99e6831-7ba1-40d4-8969-bcfc962cb9db",
   "metadata": {},
   "outputs": [],
   "source": []
  },
  {
   "cell_type": "code",
   "execution_count": null,
   "id": "00fcd63c-b67a-4d8d-b63f-392b98c0825d",
   "metadata": {},
   "outputs": [],
   "source": []
  },
  {
   "cell_type": "code",
   "execution_count": null,
   "id": "d53181b1-4423-4d11-9d32-5892059a399a",
   "metadata": {},
   "outputs": [],
   "source": []
  },
  {
   "cell_type": "code",
   "execution_count": null,
   "id": "71277d8c-5074-4984-8528-8e52f44531ef",
   "metadata": {},
   "outputs": [],
   "source": []
  }
 ],
 "metadata": {
  "kernelspec": {
   "display_name": "Python 3 (ipykernel)",
   "language": "python",
   "name": "python3"
  },
  "language_info": {
   "codemirror_mode": {
    "name": "ipython",
    "version": 3
   },
   "file_extension": ".py",
   "mimetype": "text/x-python",
   "name": "python",
   "nbconvert_exporter": "python",
   "pygments_lexer": "ipython3",
   "version": "3.12.7"
  }
 },
 "nbformat": 4,
 "nbformat_minor": 5
}
